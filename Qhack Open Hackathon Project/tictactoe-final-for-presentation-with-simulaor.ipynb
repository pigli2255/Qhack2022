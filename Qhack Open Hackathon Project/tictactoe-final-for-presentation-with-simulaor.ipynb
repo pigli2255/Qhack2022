{
  "cells": [
    {
      "cell_type": "code",
      "source": [
        "from azure.quantum import Workspace\n",
        "from qiskit import QuantumCircuit, QuantumRegister, ClassicalRegister, execute\n",
        "from qiskit.visualization import plot_histogram\n",
        "from qiskit.tools.monitor import job_monitor\n",
        "from azure.quantum.qiskit import AzureQuantumProvider\n",
        "from qiskit import assemble\n",
        "from qiskit import BasicAer\n",
        "\n",
        "\n",
        "provider = AzureQuantumProvider (\n",
        "    resource_id = \"/subscriptions/b1d7f7f8-743f-458e-b3a0-3e09734d716d/resourceGroups/aq-hackathons/providers/Microsoft.Quantum/Workspaces/aq-hackathon-01\",\n",
        "    location = \"eastus\"\n",
        ")\n",
        "workspace = Workspace (\n",
        "    subscription_id = \"b1d7f7f8-743f-458e-b3a0-3e09734d716d\",\n",
        "    resource_group = \"aq-hackathons\",\n",
        "    name = \"aq-hackathon-01\",\n",
        "    location = \"eastus\"\n",
        ")\n",
        "\n",
        "### tic toc toe ###\n",
        "\n",
        "######################################\n",
        "#           #             #          #   \n",
        "#     6     #     7       #    8     # \n",
        "#           #             #          # \n",
        "######################################\n",
        "#           #             #          # \n",
        "#     3     #     4       #    5     # \n",
        "#           #             #          # \n",
        "######################################\n",
        "#           #             #          #  \n",
        "#     0     #     1       #     2    #   \n",
        "#           #             #          # \n",
        "######################################\n",
        "\n",
        "print('######################################\\n#           #             #          #\\n#     6     #     7       #    8     #\\n#           #             #          #\\n######################################\\n#           #             #          #\\n#     3     #     4       #    5     #\\n#           #             #          #\\n######################################\\n#           #             #          #\\n#     0     #     1       #     2    #\\n#           #             #          #\\n######################################\\n')\n",
        "\n",
        "######\n",
        "#This variables can be inputed by the users to change the input of the game!\n",
        "l_player_1 = [0] #list of qbits cell numbers inicialized to 0\n",
        "l_player_2 = [2,3] #list of qbits cell numbers inicialized to 1\n",
        "l_entangled = [(1,6),(7,8),(4,5)] #list of pairs of cells that need to be entangled to |01>+|10>\n",
        "\n",
        "#translate from lists to initial state matrix\n",
        "l_initial_ordered = [0,0,0,0,0,0,0,0,0]\n",
        "for inx in range(len(l_player_1)):\n",
        "    l_initial_ordered[l_player_1[inx]]=0\n",
        "for inx in range(len(l_player_2)):\n",
        "    l_initial_ordered[l_player_2[inx]]=1  \n",
        "entg_num = 1  \n",
        "for inx in range(len(l_entangled)):\n",
        "    l_initial_ordered[l_entangled[inx][0]]='e'+str(entg_num )   \n",
        "    l_initial_ordered[l_entangled[inx][1]]='e'+str(entg_num  )\n",
        "    entg_num +=1\n",
        "\n",
        "print('This the initial table state inputed by the user:\\n0 corresponds to player 1, 1 corresponds to player 2,\\n e1,e2,e3... corresponds to entangled tiles')\n",
        "print('-----\\n'+str(l_initial_ordered[6])+'|'+str(l_initial_ordered[7])+'|'+str(l_initial_ordered[8]))\n",
        "print('-----\\n'+str(l_initial_ordered[3])+'|'+str(l_initial_ordered[4])+'|'+str(l_initial_ordered[5]))\n",
        "print('-----\\n'+str(l_initial_ordered[0])+'|'+str(l_initial_ordered[1])+'|'+str(l_initial_ordered[2]))\n",
        "print('-----')\n",
        "\n",
        "\n",
        "# Create a Quantum Circuit acting on the q register\n",
        "circuit = QuantumCircuit(9, 9)\n",
        "circuit.name = \"Tic toc toe\"\n",
        "\n",
        "for inx  in range(len(l_player_2)):\n",
        "    circuit.x(l_player_2[inx])\n",
        "\n",
        "for inx in range(len(l_entangled)):\n",
        "    circuit.h(l_entangled[inx][0])\n",
        "    circuit.x(l_entangled[inx][1])\n",
        "    circuit.cx(l_entangled[inx][0],l_entangled[inx][1])\n",
        "\n",
        "\n",
        "\n",
        "\n",
        "#circuit.h(0)\n",
        "#circuit.cx(0, 1)\n",
        "#circuit.cx(1, 2)\n",
        "circuit.measure(list(range(9)), list(range(9)))\n",
        "\n",
        "# Print out the circuit\n",
        "print('This is the correspondin quantum circuit from the users input')\n",
        "circuit.draw()\n",
        "\n",
        "\n"
      ],
      "outputs": [
        {
          "output_type": "stream",
          "name": "stdout",
          "text": "######################################\n#           #             #          #\n#     6     #     7       #    8     #\n#           #             #          #\n######################################\n#           #             #          #\n#     3     #     4       #    5     #\n#           #             #          #\n######################################\n#           #             #          #\n#     0     #     1       #     2    #\n#           #             #          #\n######################################\n\nThis the initial table state inputed by the user:\n0 corresponds to player 1, 1 corresponds to player 2,\n e1,e2,e3... corresponds to entangled tiles\n-----\ne1|e2|e2\n-----\n1|e3|e3\n-----\n0|e1|1\n-----\nThis is the correspondin quantum circuit from the users input\n"
        },
        {
          "output_type": "execute_result",
          "execution_count": 32,
          "data": {
            "text/plain": "          ┌─┐                               \nq_0: ─────┤M├───────────────────────────────\n     ┌───┐└╥┘                ┌─┐            \nq_1: ┤ H ├─╫───■─────────────┤M├────────────\n     ├───┤ ║   │       ┌─┐   └╥┘            \nq_2: ┤ X ├─╫───┼───────┤M├────╫─────────────\n     ├───┤ ║   │       └╥┘┌─┐ ║             \nq_3: ┤ X ├─╫───┼────────╫─┤M├─╫─────────────\n     ├───┤ ║   │        ║ └╥┘ ║ ┌─┐         \nq_4: ┤ H ├─╫───┼────■───╫──╫──╫─┤M├─────────\n     ├───┤ ║   │  ┌─┴─┐ ║  ║  ║ └╥┘┌─┐      \nq_5: ┤ X ├─╫───┼──┤ X ├─╫──╫──╫──╫─┤M├──────\n     ├───┤ ║ ┌─┴─┐└┬─┬┘ ║  ║  ║  ║ └╥┘      \nq_6: ┤ X ├─╫─┤ X ├─┤M├──╫──╫──╫──╫──╫───────\n     ├───┤ ║ └───┘ └╥┘  ║  ║  ║  ║  ║ ┌─┐   \nq_7: ┤ H ├─╫───■────╫───╫──╫──╫──╫──╫─┤M├───\n     ├───┤ ║ ┌─┴─┐  ║   ║  ║  ║  ║  ║ └╥┘┌─┐\nq_8: ┤ X ├─╫─┤ X ├──╫───╫──╫──╫──╫──╫──╫─┤M├\n     └───┘ ║ └───┘  ║   ║  ║  ║  ║  ║  ║ └╥┘\nc: 9/══════╩════════╩═══╩══╩══╩══╩══╩══╩══╩═\n           0        6   2  3  1  4  5  7  8 ",
            "text/html": "<pre style=\"word-wrap: normal;white-space: pre;background: #fff0;line-height: 1.1;font-family: &quot;Courier New&quot;,Courier,monospace\">          ┌─┐                               \nq_0: ─────┤M├───────────────────────────────\n     ┌───┐└╥┘                ┌─┐            \nq_1: ┤ H ├─╫───■─────────────┤M├────────────\n     ├───┤ ║   │       ┌─┐   └╥┘            \nq_2: ┤ X ├─╫───┼───────┤M├────╫─────────────\n     ├───┤ ║   │       └╥┘┌─┐ ║             \nq_3: ┤ X ├─╫───┼────────╫─┤M├─╫─────────────\n     ├───┤ ║   │        ║ └╥┘ ║ ┌─┐         \nq_4: ┤ H ├─╫───┼────■───╫──╫──╫─┤M├─────────\n     ├───┤ ║   │  ┌─┴─┐ ║  ║  ║ └╥┘┌─┐      \nq_5: ┤ X ├─╫───┼──┤ X ├─╫──╫──╫──╫─┤M├──────\n     ├───┤ ║ ┌─┴─┐└┬─┬┘ ║  ║  ║  ║ └╥┘      \nq_6: ┤ X ├─╫─┤ X ├─┤M├──╫──╫──╫──╫──╫───────\n     ├───┤ ║ └───┘ └╥┘  ║  ║  ║  ║  ║ ┌─┐   \nq_7: ┤ H ├─╫───■────╫───╫──╫──╫──╫──╫─┤M├───\n     ├───┤ ║ ┌─┴─┐  ║   ║  ║  ║  ║  ║ └╥┘┌─┐\nq_8: ┤ X ├─╫─┤ X ├──╫───╫──╫──╫──╫──╫──╫─┤M├\n     └───┘ ║ └───┘  ║   ║  ║  ║  ║  ║  ║ └╥┘\nc: 9/══════╩════════╩═══╩══╩══╩══╩══╩══╩══╩═\n           0        6   2  3  1  4  5  7  8 </pre>"
          },
          "metadata": {}
        }
      ],
      "execution_count": 32,
      "metadata": {
        "jupyter": {
          "source_hidden": false,
          "outputs_hidden": false
        },
        "nteract": {
          "transient": {
            "deleting": false
          }
        }
      }
    },
    {
      "cell_type": "code",
      "source": [
        "#This is only used to simulate with real hardware\r\n",
        "#simulator_backend = provider.get_backend(\"ionq.simulator\")\r\n",
        "#simulator_backend = provider.get_backend(\"ionq.qpu\")\r\n",
        "#job = simulator_backend.run(circuit, shots=1)\r\n",
        "#job_id = job.id()\r\n",
        "#print(\"quantum tic\", job_id)\r\n",
        "#job_monitor(job)\r\n",
        "#result = job.result()\r\n",
        "#print(result.get_counts())"
      ],
      "outputs": [
        {
          "output_type": "stream",
          "name": "stdout",
          "text": "quantum tic 05f515c2-8190-11ec-b31c-00155d0077a0\nJob Status: job is queued (None)"
        }
      ],
      "execution_count": 8,
      "metadata": {
        "jupyter": {
          "source_hidden": false,
          "outputs_hidden": false
        },
        "nteract": {
          "transient": {
            "deleting": false
          }
        }
      }
    },
    {
      "cell_type": "code",
      "source": [
        "def check_winner(board,mark):\r\n",
        "    return(((board[0]==mark) and (board[1]== mark) and (board[2]==mark) )or #for row1 \r\n",
        "\r\n",
        "            ((board[3]==mark) and (board[4]==mark) and (board[5]==mark) )or #for row2\r\n",
        "\r\n",
        "            ((board[6]==mark) and (board[7]==mark) and (board[8]==mark) )or #for row3\r\n",
        "\r\n",
        "            ((board[0]==mark) and (board[3]==mark) and (board[6]== mark) )or#for Colm1 \r\n",
        "\r\n",
        "            ((board[1]==mark) and (board[4]==mark) and (board[7]==mark) )or #for Colm 2\r\n",
        "\r\n",
        "            ((board[2]==mark) and (board[5]==mark) and (board[8]==mark) )or #for colm 3\r\n",
        "\r\n",
        "            ((board[0]==mark) and (board[4]==mark) and (board[8]==mark) )or #daignole 1\r\n",
        "\r\n",
        "            ((board[2]==mark) and (board[4]==mark) and (board[6]==mark) )) #daignole 2\r\n",
        "\r\n",
        "\r\n",
        "flag_p1=1 \r\n",
        "flag_p2=0\r\n",
        "\r\n",
        "while (flag_p1 or flag_p2) and not(flag_p1 and flag_p2):\r\n",
        "    print('Running the quantum circuit...')\r\n",
        "    flag_p1=0 \r\n",
        "    flag_p2=0\r\n",
        "    job = execute(circuit, BasicAer.get_backend('qasm_simulator'), shots=1)\r\n",
        "    result = job.result()\r\n",
        "    l_final_ordered=list(map(lambda x: int(x),list(list(result.get_counts().keys())[0][::-1])))\r\n",
        "    print(l_final_ordered)\r\n",
        "    #list with ordered cells\r\n",
        "    print('The colapsed state is:')\r\n",
        "    print('-----\\n'+str(l_final_ordered[6])+'|'+str(l_final_ordered[7])+'|'+str(l_final_ordered[8]))\r\n",
        "    print('-----\\n'+str(l_final_ordered[3])+'|'+str(l_final_ordered[4])+'|'+str(l_final_ordered[5]))\r\n",
        "    print('-----\\n'+str(l_final_ordered[0])+'|'+str(l_final_ordered[1])+'|'+str(l_final_ordered[2]))\r\n",
        "    print('-----')\r\n",
        "\r\n",
        "    if (check_winner(l_final_ordered,0) ):## to check if player 1 won\r\n",
        "        print('Player 1 won!')\r\n",
        "        flag_p1 = 1\r\n",
        "    else:\r\n",
        "        flag_p1 = 0\r\n",
        "\r\n",
        "    if (check_winner(l_final_ordered,1)): ## to check if player 2 won\r\n",
        "        print('Player 2 won!')\r\n",
        "        flag_p2 = 1\r\n",
        "    else:\r\n",
        "        flag_p2 = 0\r\n",
        "\r\n",
        "    if (flag_p1 or flag_p2) and not(flag_p1 and flag_p2):\r\n",
        "        break\r\n",
        "\r\n",
        "    if flag_p1 and flag_p2:\r\n",
        "        print('The game will repeat until one one player wins')\r\n",
        "\r\n",
        "    if not(flag_p1 and flag_p2):\r\n",
        "        print('No winners,\\nThe game will repeat until one one player wins')\r\n"
      ],
      "outputs": [
        {
          "output_type": "stream",
          "name": "stdout",
          "text": "Running the quantum circuit...\n[0, 0, 1, 1, 1, 0, 1, 1, 0]\nThe colapsed state is:\n-----\n1|1|0\n-----\n1|1|0\n-----\n0|0|1\n-----\nPlayer 2 won!\n"
        }
      ],
      "execution_count": 33,
      "metadata": {
        "jupyter": {
          "source_hidden": false,
          "outputs_hidden": false
        },
        "nteract": {
          "transient": {
            "deleting": false
          }
        }
      }
    }
  ],
  "metadata": {
    "language_info": {
      "name": "python",
      "version": "3.7.12",
      "mimetype": "text/x-python",
      "codemirror_mode": {
        "name": "ipython",
        "version": 3
      },
      "pygments_lexer": "ipython3",
      "nbconvert_exporter": "python",
      "file_extension": ".py"
    },
    "kernelspec": {
      "name": "python3",
      "language": "python",
      "display_name": "Python 3 (ipykernel)"
    },
    "kernel_info": {
      "name": "python3"
    },
    "nteract": {
      "version": "nteract-front-end@1.0.0"
    }
  },
  "nbformat": 4,
  "nbformat_minor": 0
}