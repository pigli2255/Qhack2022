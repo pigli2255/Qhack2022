{
 "cells": [
  {
   "cell_type": "code",
   "execution_count": 19,
   "id": "3f2aa52a-6480-4221-9ae5-3fc962ac87c3",
   "metadata": {},
   "outputs": [],
   "source": [
    "import numpy as np\n",
    "import pennylane as qml\n",
    "\n",
    "\n",
    "# Importing standard Qiskit libraries\n",
    "from qiskit import *\n",
    "from qiskit.tools.jupyter import *\n",
    "from qiskit.tools.monitor import job_monitor\n",
    "from qiskit.visualization import *\n",
    "from ibm_quantum_widgets import *\n",
    "from qiskit.providers.aer import QasmSimulator\n",
    "\n"
   ]
  },
  {
   "cell_type": "code",
   "execution_count": null,
   "id": "d464067a-8c4d-4311-80a1-cd7c1f07f7b8",
   "metadata": {},
   "outputs": [],
   "source": [
    "!pip install pennylane-qiskit #run this to install qiskit plugin"
   ]
  },
  {
   "cell_type": "code",
   "execution_count": 3,
   "id": "715ba9cb-d56a-4fdc-84c0-8ded5ae0ce07",
   "metadata": {},
   "outputs": [
    {
     "name": "stderr",
     "output_type": "stream",
     "text": [
      "configrc.store_credentials:WARNING:2022-02-21 20:33:17,111: Credentials already present. Set overwrite=True to overwrite.\n"
     ]
    }
   ],
   "source": [
    "# Saving IBMQ account\n",
    "IBMQ.save_account('8bc66fd9b72c9c7167002f0311fb6c64ed0605f693c67425f720d7c08dba3ea6ffe3af68f1e15c56dcb6b7c01508a43cb1709972b4701621f86c196e13bdb6b1')"
   ]
  },
  {
   "cell_type": "code",
   "execution_count": 4,
   "id": "bdd2b1d4-9d6b-48c5-b60e-ff7b898e40c8",
   "metadata": {},
   "outputs": [
    {
     "name": "stderr",
     "output_type": "stream",
     "text": [
      "ibmqfactory.load_account:WARNING:2022-02-21 20:34:19,518: Credentials are already in use. The existing account in the session will be replaced.\n"
     ]
    },
    {
     "data": {
      "text/plain": [
       "<AccountProvider for IBMQ(hub='ibm-q', group='open', project='main')>"
      ]
     },
     "execution_count": 4,
     "metadata": {},
     "output_type": "execute_result"
    }
   ],
   "source": [
    "IBMQ.load_account()"
   ]
  },
  {
   "cell_type": "code",
   "execution_count": 11,
   "id": "b84ac8f1-9849-4183-8924-fd26897afbf6",
   "metadata": {},
   "outputs": [
    {
     "data": {
      "image/png": "[encoded data removed]",
      "text/plain": [
       "<Figure size 206.852x204.68 with 1 Axes>"
      ]
     },
     "execution_count": 11,
     "metadata": {},
     "output_type": "execute_result"
    }
   ],
   "source": [
    "\n",
    "# dev = qml.device('qiskit.ibmq', wires=2, backend='ibmq_perth') #accessing actual hardware\n",
    "dev = qml.device('qiskit.ibmq', wires=2, backend='ibmq_qasm_simulator') #simulator\n",
    "\n",
    "\n",
    "from qiskit.providers.aer.noise.device import basic_device_noise_model\n",
    "\n",
    "qiskit.IBMQ.load_account()\n",
    "provider = IBMQ.get_provider(hub='ibm-q-community', group='qhack-hackathon', project='7-qubit')\n",
    "ibmq_perth = provider.get_backend('ibmq_perth')\n",
    "device_properties = ibmq_perth.properties()\n",
    "\n",
    "#example tutorial\n",
    "noise_model = basic_device_noise_model(device_properties)\n",
    "\n",
    "#execute\n",
    "dev = qml.device('qiskit.aer', wires=2, noise_model=noise_model)\n",
    "\n",
    "\n",
    "\n"
   ]
  },
  {
   "cell_type": "code",
   "execution_count": null,
   "id": "3e55cc61-a65a-4a76-8a73-d3c814b0a561",
   "metadata": {},
   "outputs": [],
   "source": []
  }
 ],
 "metadata": {
  "kernelspec": {
   "display_name": "Qiskit v0.34.2 (ipykernel)",
   "language": "python",
   "name": "python3"
  },
  "language_info": {
   "codemirror_mode": {
    "name": "ipython",
    "version": 3
   },
   "file_extension": ".py",
   "mimetype": "text/x-python",
   "name": "python",
   "nbconvert_exporter": "python",
   "pygments_lexer": "ipython3",
   "version": "3.8.12"
  },
  "widgets": {
   "application/vnd.jupyter.widget-state+json": {
    "state": {
     "05c08ec5a98d4779a3447b9a56d97e85": {
      "model_module": "@jupyter-widgets/controls",
      "model_module_version": "1.5.0",
      "model_name": "DescriptionStyleModel",
      "state": {
       "description_width": ""
      }
     },
     "09ee47676222464a9ee00c739df6be77": {
      "model_module": "@jupyter-widgets/controls",
      "model_module_version": "1.5.0",
      "model_name": "GridBoxModel",
      "state": {
       "children": [
        "IPY_MODEL_806aeb0c9e9744db8c114ddad05b4d0c"
       ],
       "layout": "IPY_MODEL_d7214266e3c34193923ed97df12b5e03"
      }
     },
     "0b71dfd509f949f495c1cd372783f7c3": {
      "model_module": "@jupyter-widgets/controls",
      "model_module_version": "1.5.0",
      "model_name": "HTMLModel",
      "state": {
       "layout": "IPY_MODEL_ad66740a6fac461e9ae238b6cb504424",
       "style": "IPY_MODEL_5fd974e62f2b48d4ac558540f0b8cf9a",
       "value": "<h5>Status</h5>"
      }
     },
     "0e39aea93f1c4aafae031d668213b4c5": {
      "model_module": "@jupyter-widgets/controls",
      "model_module_version": "1.5.0",
      "model_name": "HTMLModel",
      "state": {
       "layout": "IPY_MODEL_2cfc92015464470e89300499d09cc0a5",
       "style": "IPY_MODEL_3225285a02c640959a19086284d7fd48",
       "value": "6213ff1d171060350aadf385"
      }
     },
     "11a1cefbcc0a45af819978994ee41487": {
      "model_module": "@jupyter-widgets/base",
      "model_module_version": "1.2.0",
      "model_name": "LayoutModel",
      "state": {
       "width": "70px"
      }
     },
     "134a63dd68fb4707b2b23e50c2831ddb": {
      "model_module": "@jupyter-widgets/controls",
      "model_module_version": "1.5.0",
      "model_name": "HBoxModel",
      "state": {
       "children": [
        "IPY_MODEL_4700596d86d241fab6d1678f0cd9d62f",
        "IPY_MODEL_7bf1530e322b49148123cb7967855b1b",
        "IPY_MODEL_0b71dfd509f949f495c1cd372783f7c3",
        "IPY_MODEL_387763843d434fcab19280efcc42c933",
        "IPY_MODEL_15e49d6bdc7b400d9495a5cf6721dc62"
       ],
       "layout": "IPY_MODEL_c8b1a889601948c68bae125536d12a5a"
      }
     },
     "15e49d6bdc7b400d9495a5cf6721dc62": {
      "model_module": "@jupyter-widgets/controls",
      "model_module_version": "1.5.0",
      "model_name": "HTMLModel",
      "state": {
       "layout": "IPY_MODEL_5fd02637a96644d58c29e13e18fe7354",
       "style": "IPY_MODEL_f6d2dfa107e54d968f7d47e2932115b1",
       "value": "<h5>Message</h5>"
      }
     },
     "173debf57d764ea1a14f3e3fb0fab390": {
      "model_module": "@jupyter-widgets/controls",
      "model_module_version": "1.5.0",
      "model_name": "ButtonModel",
      "state": {
       "icon": "close",
       "layout": "IPY_MODEL_f70c693c424046bc86a268a5661b9dae",
       "style": "IPY_MODEL_e01e5f971f334c32bf8411607b8ac086"
      }
     },
     "18699c420a9f40b9822e1ae1f5b65978": {
      "model_module": "@jupyter-widgets/controls",
      "model_module_version": "1.5.0",
      "model_name": "DescriptionStyleModel",
      "state": {
       "description_width": ""
      }
     },
     "2a691cece53d4bddae3161a7fbcacd32": {
      "model_module": "@jupyter-widgets/controls",
      "model_module_version": "1.5.0",
      "model_name": "ButtonStyleModel",
      "state": {}
     },
     "2cfc92015464470e89300499d09cc0a5": {
      "model_module": "@jupyter-widgets/base",
      "model_module_version": "1.2.0",
      "model_name": "LayoutModel",
      "state": {
       "width": "190px"
      }
     },
     "2eccd216745f44d5ab775f37a84dc4de": {
      "model_module": "@jupyter-widgets/controls",
      "model_module_version": "1.5.0",
      "model_name": "HBoxModel",
      "state": {
       "children": [
        "IPY_MODEL_173debf57d764ea1a14f3e3fb0fab390",
        "IPY_MODEL_0e39aea93f1c4aafae031d668213b4c5",
        "IPY_MODEL_d000b928dd044d49a901dcf44730f36f",
        "IPY_MODEL_6540efb33bfe429185a54717e1da93e7",
        "IPY_MODEL_98cc0dea1a7446acb7181073a4535860",
        "IPY_MODEL_7a8093fcb21543029f91f066436af8c5"
       ],
       "layout": "IPY_MODEL_8eb3030e1a514393b4909aa2ce631e63"
      }
     },
     "2fe208d765aa4472b9b5b5d8f594f3b3": {
      "model_module": "@jupyter-widgets/controls",
      "model_module_version": "1.5.0",
      "model_name": "HTMLModel",
      "state": {
       "layout": "IPY_MODEL_d7026c7a1b0441c0a0d2847c719fd676",
       "style": "IPY_MODEL_18699c420a9f40b9822e1ae1f5b65978",
       "value": "job is queued"
      }
     },
     "31feca243fbf45c2aab30341a10c5fe3": {
      "model_module": "@jupyter-widgets/base",
      "model_module_version": "1.2.0",
      "model_name": "LayoutModel",
      "state": {
       "width": "95px"
      }
     },
     "3225285a02c640959a19086284d7fd48": {
      "model_module": "@jupyter-widgets/controls",
      "model_module_version": "1.5.0",
      "model_name": "DescriptionStyleModel",
      "state": {
       "description_width": ""
      }
     },
     "33d08bfcc92949e796e7cb642342d838": {
      "model_module": "@jupyter-widgets/controls",
      "model_module_version": "1.5.0",
      "model_name": "DescriptionStyleModel",
      "state": {
       "description_width": ""
      }
     },
     "370e4461670c4ec68a13cac78625a0ba": {
      "model_module": "@jupyter-widgets/controls",
      "model_module_version": "1.5.0",
      "model_name": "DescriptionStyleModel",
      "state": {
       "description_width": ""
      }
     },
     "37d63e02314f421bb8009d4ec8eb424e": {
      "model_module": "@jupyter-widgets/controls",
      "model_module_version": "1.5.0",
      "model_name": "ButtonStyleModel",
      "state": {
       "button_color": "white"
      }
     },
     "3865137eb4af4284800e0a81e63fc2e8": {
      "model_module": "@jupyter-widgets/base",
      "model_module_version": "1.2.0",
      "model_name": "LayoutModel",
      "state": {
       "width": "145px"
      }
     },
     "387763843d434fcab19280efcc42c933": {
      "model_module": "@jupyter-widgets/controls",
      "model_module_version": "1.5.0",
      "model_name": "HTMLModel",
      "state": {
       "layout": "IPY_MODEL_6e7401869b5249ea93a28810e48545b0",
       "style": "IPY_MODEL_33d08bfcc92949e796e7cb642342d838",
       "value": "<h5>Queue</h5>"
      }
     },
     "3f8f5c5fb72a4850a062a01a1b0eddb5": {
      "model_module": "@jupyter-widgets/controls",
      "model_module_version": "1.5.0",
      "model_name": "DescriptionStyleModel",
      "state": {
       "description_width": ""
      }
     },
     "4700596d86d241fab6d1678f0cd9d62f": {
      "model_module": "@jupyter-widgets/controls",
      "model_module_version": "1.5.0",
      "model_name": "HTMLModel",
      "state": {
       "layout": "IPY_MODEL_a45782cc61234dc6b5b38e1b3adadf0b",
       "style": "IPY_MODEL_e9f654f64fef4ec69f1f6d17bfa21206",
       "value": "<h5>Job ID</h5>"
      }
     },
     "4c6e9368431a461c8e6d3309f1a57a96": {
      "model_module": "@jupyter-widgets/controls",
      "model_module_version": "1.5.0",
      "model_name": "HTMLModel",
      "state": {
       "layout": "IPY_MODEL_3865137eb4af4284800e0a81e63fc2e8",
       "style": "IPY_MODEL_d3766168e1e249109fed56ac16c3f1c5",
       "value": "ibm_perth"
      }
     },
     "5c76a6ff6d234bb2adf27b950c616ffd": {
      "model_module": "@jupyter-widgets/base",
      "model_module_version": "1.2.0",
      "model_name": "LayoutModel",
      "state": {
       "width": "145px"
      }
     },
     "5fd02637a96644d58c29e13e18fe7354": {
      "model_module": "@jupyter-widgets/base",
      "model_module_version": "1.2.0",
      "model_name": "LayoutModel",
      "state": {}
     },
     "5fd974e62f2b48d4ac558540f0b8cf9a": {
      "model_module": "@jupyter-widgets/controls",
      "model_module_version": "1.5.0",
      "model_name": "DescriptionStyleModel",
      "state": {
       "description_width": ""
      }
     },
     "6540efb33bfe429185a54717e1da93e7": {
      "model_module": "@jupyter-widgets/controls",
      "model_module_version": "1.5.0",
      "model_name": "HTMLModel",
      "state": {
       "layout": "IPY_MODEL_7f0bede27db64970812d6be218dca11a",
       "style": "IPY_MODEL_bfcebb1ba29340d58d535d86584a9049",
       "value": "QUEUED"
      }
     },
     "6676f5f0ec0246fe9411c0131f8f98b9": {
      "model_module": "@jupyter-widgets/controls",
      "model_module_version": "1.5.0",
      "model_name": "DescriptionStyleModel",
      "state": {
       "description_width": ""
      }
     },
     "6b49445fa76a4f3ebb311226d3bbf768": {
      "model_module": "@jupyter-widgets/controls",
      "model_module_version": "1.5.0",
      "model_name": "DescriptionStyleModel",
      "state": {
       "description_width": ""
      }
     },
     "6e7401869b5249ea93a28810e48545b0": {
      "model_module": "@jupyter-widgets/base",
      "model_module_version": "1.2.0",
      "model_name": "LayoutModel",
      "state": {
       "width": "70px"
      }
     },
     "712705d545534e96b2726ea37c5915ee": {
      "model_module": "@jupyter-widgets/controls",
      "model_module_version": "1.5.0",
      "model_name": "ButtonModel",
      "state": {
       "icon": "close",
       "layout": "IPY_MODEL_93d34a28f9514b619e341d55cafbd5fc",
       "style": "IPY_MODEL_37d63e02314f421bb8009d4ec8eb424e"
      }
     },
     "75eec511e68840448eb9c4892e30c0b2": {
      "model_module": "@jupyter-widgets/controls",
      "model_module_version": "1.5.0",
      "model_name": "DescriptionStyleModel",
      "state": {
       "description_width": ""
      }
     },
     "7a8093fcb21543029f91f066436af8c5": {
      "model_module": "@jupyter-widgets/controls",
      "model_module_version": "1.5.0",
      "model_name": "HTMLModel",
      "state": {
       "layout": "IPY_MODEL_ebe84159c8454cbd836c6485f06efc56",
       "style": "IPY_MODEL_05c08ec5a98d4779a3447b9a56d97e85",
       "value": "job is queued"
      }
     },
     "7bf1530e322b49148123cb7967855b1b": {
      "model_module": "@jupyter-widgets/controls",
      "model_module_version": "1.5.0",
      "model_name": "HTMLModel",
      "state": {
       "layout": "IPY_MODEL_82bb079c51ec4187a223320995494e67",
       "style": "IPY_MODEL_6b49445fa76a4f3ebb311226d3bbf768",
       "value": "<h5>Backend</h5>"
      }
     },
     "7d83c24baf244e1abfa294c4fe7e2671": {
      "model_module": "@jupyter-widgets/base",
      "model_module_version": "1.2.0",
      "model_name": "LayoutModel",
      "state": {
       "max_width": "700px",
       "min_width": "700px"
      }
     },
     "7e8ddef84ad04278b104664d9c36020c": {
      "model_module": "@jupyter-widgets/controls",
      "model_module_version": "1.5.0",
      "model_name": "HTMLModel",
      "state": {
       "layout": "IPY_MODEL_8656e81c4a694844a3977d8ee22d12a6",
       "style": "IPY_MODEL_c7ee43c484fb45259e618b2138c52ad4",
       "value": "<p style='font-family: IBM Plex Sans, Arial, Helvetica, sans-serif; font-size: 20px; font-weight: medium;'>Circuit Properties</p>"
      }
     },
     "7f0bede27db64970812d6be218dca11a": {
      "model_module": "@jupyter-widgets/base",
      "model_module_version": "1.2.0",
      "model_name": "LayoutModel",
      "state": {
       "width": "95px"
      }
     },
     "806aeb0c9e9744db8c114ddad05b4d0c": {
      "model_module": "@jupyter-widgets/controls",
      "model_module_version": "1.5.0",
      "model_name": "ButtonModel",
      "state": {
       "button_style": "primary",
       "description": "Clear",
       "layout": "IPY_MODEL_8fc5f75422a248abb81c018a8908a60e",
       "style": "IPY_MODEL_2a691cece53d4bddae3161a7fbcacd32"
      }
     },
     "82bb079c51ec4187a223320995494e67": {
      "model_module": "@jupyter-widgets/base",
      "model_module_version": "1.2.0",
      "model_name": "LayoutModel",
      "state": {
       "width": "145px"
      }
     },
     "8656e81c4a694844a3977d8ee22d12a6": {
      "model_module": "@jupyter-widgets/base",
      "model_module_version": "1.2.0",
      "model_name": "LayoutModel",
      "state": {
       "margin": "0px 0px 10px 0px"
      }
     },
     "89801124455d440996a115b635588bfc": {
      "model_module": "@jupyter-widgets/base",
      "model_module_version": "1.2.0",
      "model_name": "LayoutModel",
      "state": {
       "width": "70px"
      }
     },
     "8eb3030e1a514393b4909aa2ce631e63": {
      "model_module": "@jupyter-widgets/base",
      "model_module_version": "1.2.0",
      "model_name": "LayoutModel",
      "state": {
       "max_width": "700px",
       "min_width": "700px"
      }
     },
     "8fc5f75422a248abb81c018a8908a60e": {
      "model_module": "@jupyter-widgets/base",
      "model_module_version": "1.2.0",
      "model_name": "LayoutModel",
      "state": {
       "grid_area": "right",
       "padding": "0px 0px 0px 0px",
       "width": "70px"
      }
     },
     "93d34a28f9514b619e341d55cafbd5fc": {
      "model_module": "@jupyter-widgets/base",
      "model_module_version": "1.2.0",
      "model_name": "LayoutModel",
      "state": {
       "margin": "0px 5px 0px 0px",
       "width": "32px"
      }
     },
     "98cc0dea1a7446acb7181073a4535860": {
      "model_module": "@jupyter-widgets/controls",
      "model_module_version": "1.5.0",
      "model_name": "HTMLModel",
      "state": {
       "layout": "IPY_MODEL_89801124455d440996a115b635588bfc",
       "style": "IPY_MODEL_370e4461670c4ec68a13cac78625a0ba",
       "value": "2"
      }
     },
     "a3863233259844098c045b692fe9a7a7": {
      "model_module": "@jupyter-widgets/controls",
      "model_module_version": "1.5.0",
      "model_name": "HTMLModel",
      "state": {
       "layout": "IPY_MODEL_31feca243fbf45c2aab30341a10c5fe3",
       "style": "IPY_MODEL_bca2b528916f4ada93cab0d06605586e",
       "value": "QUEUED"
      }
     },
     "a45782cc61234dc6b5b38e1b3adadf0b": {
      "model_module": "@jupyter-widgets/base",
      "model_module_version": "1.2.0",
      "model_name": "LayoutModel",
      "state": {
       "width": "190px"
      }
     },
     "ab2607272fc44fb6a1047c642780adbe": {
      "model_module": "@jupyter-widgets/controls",
      "model_module_version": "1.5.0",
      "model_name": "HTMLModel",
      "state": {
       "layout": "IPY_MODEL_b489af3be9ae4601b8bb636f4cc1aa2a",
       "style": "IPY_MODEL_75eec511e68840448eb9c4892e30c0b2",
       "value": "6213feae57bc54b95962b627"
      }
     },
     "ad66740a6fac461e9ae238b6cb504424": {
      "model_module": "@jupyter-widgets/base",
      "model_module_version": "1.2.0",
      "model_name": "LayoutModel",
      "state": {
       "width": "95px"
      }
     },
     "b489af3be9ae4601b8bb636f4cc1aa2a": {
      "model_module": "@jupyter-widgets/base",
      "model_module_version": "1.2.0",
      "model_name": "LayoutModel",
      "state": {
       "width": "190px"
      }
     },
     "bca2b528916f4ada93cab0d06605586e": {
      "model_module": "@jupyter-widgets/controls",
      "model_module_version": "1.5.0",
      "model_name": "DescriptionStyleModel",
      "state": {
       "description_width": ""
      }
     },
     "bfcebb1ba29340d58d535d86584a9049": {
      "model_module": "@jupyter-widgets/controls",
      "model_module_version": "1.5.0",
      "model_name": "DescriptionStyleModel",
      "state": {
       "description_width": ""
      }
     },
     "c05ee1e910ad4cab9f4e95187b511b46": {
      "model_module": "@jupyter-widgets/controls",
      "model_module_version": "1.5.0",
      "model_name": "HBoxModel",
      "state": {
       "children": [
        "IPY_MODEL_712705d545534e96b2726ea37c5915ee",
        "IPY_MODEL_ab2607272fc44fb6a1047c642780adbe",
        "IPY_MODEL_4c6e9368431a461c8e6d3309f1a57a96",
        "IPY_MODEL_a3863233259844098c045b692fe9a7a7",
        "IPY_MODEL_ec4b0ae3d18b4f8d97869cad8a766b09",
        "IPY_MODEL_2fe208d765aa4472b9b5b5d8f594f3b3"
       ],
       "layout": "IPY_MODEL_7d83c24baf244e1abfa294c4fe7e2671"
      }
     },
     "c7ee43c484fb45259e618b2138c52ad4": {
      "model_module": "@jupyter-widgets/controls",
      "model_module_version": "1.5.0",
      "model_name": "DescriptionStyleModel",
      "state": {
       "description_width": ""
      }
     },
     "c8b1a889601948c68bae125536d12a5a": {
      "model_module": "@jupyter-widgets/base",
      "model_module_version": "1.2.0",
      "model_name": "LayoutModel",
      "state": {
       "margin": "0px 0px 0px 37px",
       "width": "600px"
      }
     },
     "d000b928dd044d49a901dcf44730f36f": {
      "model_module": "@jupyter-widgets/controls",
      "model_module_version": "1.5.0",
      "model_name": "HTMLModel",
      "state": {
       "layout": "IPY_MODEL_5c76a6ff6d234bb2adf27b950c616ffd",
       "style": "IPY_MODEL_6676f5f0ec0246fe9411c0131f8f98b9",
       "value": "ibm_perth"
      }
     },
     "d3766168e1e249109fed56ac16c3f1c5": {
      "model_module": "@jupyter-widgets/controls",
      "model_module_version": "1.5.0",
      "model_name": "DescriptionStyleModel",
      "state": {
       "description_width": ""
      }
     },
     "d7026c7a1b0441c0a0d2847c719fd676": {
      "model_module": "@jupyter-widgets/base",
      "model_module_version": "1.2.0",
      "model_name": "LayoutModel",
      "state": {
       "overflow_x": "scroll"
      }
     },
     "d7214266e3c34193923ed97df12b5e03": {
      "model_module": "@jupyter-widgets/base",
      "model_module_version": "1.2.0",
      "model_name": "LayoutModel",
      "state": {
       "grid_template_areas": "\n                                       \". . . . right \"\n                                        ",
       "grid_template_columns": "20% 20% 20% 20% 20%",
       "width": "100%"
      }
     },
     "e01e5f971f334c32bf8411607b8ac086": {
      "model_module": "@jupyter-widgets/controls",
      "model_module_version": "1.5.0",
      "model_name": "ButtonStyleModel",
      "state": {
       "button_color": "white"
      }
     },
     "e9f654f64fef4ec69f1f6d17bfa21206": {
      "model_module": "@jupyter-widgets/controls",
      "model_module_version": "1.5.0",
      "model_name": "DescriptionStyleModel",
      "state": {
       "description_width": ""
      }
     },
     "ebe84159c8454cbd836c6485f06efc56": {
      "model_module": "@jupyter-widgets/base",
      "model_module_version": "1.2.0",
      "model_name": "LayoutModel",
      "state": {
       "overflow_x": "scroll"
      }
     },
     "ec4b0ae3d18b4f8d97869cad8a766b09": {
      "model_module": "@jupyter-widgets/controls",
      "model_module_version": "1.5.0",
      "model_name": "HTMLModel",
      "state": {
       "layout": "IPY_MODEL_11a1cefbcc0a45af819978994ee41487",
       "style": "IPY_MODEL_3f8f5c5fb72a4850a062a01a1b0eddb5",
       "value": "1"
      }
     },
     "f6d2dfa107e54d968f7d47e2932115b1": {
      "model_module": "@jupyter-widgets/controls",
      "model_module_version": "1.5.0",
      "model_name": "DescriptionStyleModel",
      "state": {
       "description_width": ""
      }
     },
     "f70c693c424046bc86a268a5661b9dae": {
      "model_module": "@jupyter-widgets/base",
      "model_module_version": "1.2.0",
      "model_name": "LayoutModel",
      "state": {
       "margin": "0px 5px 0px 0px",
       "width": "32px"
      }
     }
    },
    "version_major": 2,
    "version_minor": 0
   }
  }
 },
 "nbformat": 4,
 "nbformat_minor": 5
}
